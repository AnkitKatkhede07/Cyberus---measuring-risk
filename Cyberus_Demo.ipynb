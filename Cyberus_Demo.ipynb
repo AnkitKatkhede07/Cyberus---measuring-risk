{
  "cells": [
    {
      "cell_type": "markdown",
      "metadata": {
        "id": "kQnZ7rgF-9fF"
      },
      "source": [
        "Cyberus is an advanced software tool that assesses the **legitimacy** and **risk level** of messages by utilizing multiple datasets and algorithms. It combines the power of the Decision Tree algorithm for URL analysis and Support Vector Classification for the lexical analysis of the message body. By integrating the independent results obtained from these models, Cyberus provides a comprehensive risk assessment, helping users make informed **decisions**. It serves as a valuable resource in combating spam, phishing attempts, and other cyber threats, offering users **peace of mind** and protection in the digital realm."
      ]
    },
    {
      "cell_type": "markdown",
      "metadata": {
        "id": "CUz-FomIlnZt"
      },
      "source": [
        "### **Step 1:** Setup the environment\n",
        "Before we begin setting up Cyberus, we need to set up the environment. This involves downloading the source code from the official GitHub repository, placing it in the correct directory, and ensuring that all Python dependencies are satisfied."
      ]
    },
    {
      "cell_type": "code",
      "execution_count": 4,
      "metadata": {
        "cellView": "form",
        "id": "bC8N_2oG_3CC"
      },
      "outputs": [
        {
          "name": "stderr",
          "output_type": "stream",
          "text": [
            "mv: cannot stat '/content/cyberus/*': No such file or directory\n",
            "rm: cannot remove '/content/cyberus': No such file or directory\n"
          ]
        },
        {
          "name": "stdout",
          "output_type": "stream",
          "text": [
            "Defaulting to user installation because normal site-packages is not writeable\n"
          ]
        },
        {
          "name": "stderr",
          "output_type": "stream",
          "text": [
            "ERROR: Could not open requirements file: [Errno 2] No such file or directory: '/content/requirements.txt'\n"
          ]
        }
      ],
      "source": [
        "#@markdown **Run me!** for auto setup of environment.\n",
        "!mv /content/cyberus/* /content\n",
        "!rm -r /content/cyberus\n",
        "!pip install -r /content/requirements.txt"
      ]
    },
    {
      "cell_type": "markdown",
      "metadata": {
        "id": "OK1ty1Df7CTL"
      },
      "source": [
        "### **Step 2:** Download Datasets\n",
        "\n",
        "To proceed with the work, we need to download the datasets. Please follow the steps below:\n",
        "\n",
        "1. [Download the datasets](https://drive.google.com/drive/folders/1xOIc_d3RDOKhaoowChTubQ101nWpZq7Q?usp=share_link). The dataset is provided as a compressed file, which includes three datasets: the **spam_sms** dataset, the **spam_email** dataset, and the **bad_urls** dataset.\n",
        "2. Go to the \"Files\" section of this Google Colab environment.\n",
        "3. Drag and drop the downloaded file into the \"Files\" section.\n",
        "   \n",
        "With these steps, you have completed the dataset download process."
      ]
    },
    {
      "cell_type": "markdown",
      "metadata": {
        "id": "-yVlLeTLFtI2"
      },
      "source": [
        "### **Step 3:** Build the Cyberus Models (Takes time!)\n",
        "\n",
        "We're almost there! In this step, we need to build all the machine learning models for Cyberus. If you're interested in the technical details, you can find some of the descriptions in the official repository. Please note that this step requires some computational time, so it may take up to 5 minutes to complete. Your patience is greatly appreciated as the models are being constructed."
      ]
    },
    {
      "cell_type": "code",
      "execution_count": null,
      "metadata": {},
      "outputs": [],
      "source": []
    },
    {
      "cell_type": "code",
      "execution_count": 6,
      "metadata": {
        "cellView": "form",
        "colab": {
          "background_save": true
        },
        "id": "OHYv14dv4D2x"
      },
      "outputs": [
        {
          "ename": "ModuleNotFoundError",
          "evalue": "No module named 'py7zr'",
          "output_type": "error",
          "traceback": [
            "\u001b[1;31m---------------------------------------------------------------------------\u001b[0m",
            "\u001b[1;31mModuleNotFoundError\u001b[0m                       Traceback (most recent call last)",
            "Cell \u001b[1;32mIn[6], line 2\u001b[0m\n\u001b[0;32m      1\u001b[0m \u001b[38;5;66;03m#@markdown **Run me!** for auto building of Cyberus models.\u001b[39;00m\n\u001b[1;32m----> 2\u001b[0m \u001b[38;5;28;01mfrom\u001b[39;00m \u001b[38;5;21;01mcyberus\u001b[39;00m \u001b[38;5;28;01mimport\u001b[39;00m cyberus\n\u001b[0;32m      3\u001b[0m cyberus_obj \u001b[38;5;241m=\u001b[39m cyberus()\n",
            "File \u001b[1;32mc:\\Users\\DELL\\OneDrive\\Desktop\\My C++\\My JAVA\\Cyberus---measuring-risk\\cyberus.py:2\u001b[0m\n\u001b[1;32m----> 2\u001b[0m \u001b[38;5;28;01mfrom\u001b[39;00m \u001b[38;5;21;01mgeneric_model\u001b[39;00m \u001b[38;5;28;01mimport\u001b[39;00m \u001b[38;5;241m*\u001b[39m\n\u001b[0;32m      3\u001b[0m \u001b[38;5;28;01mfrom\u001b[39;00m \u001b[38;5;21;01mgeneric_spam_text\u001b[39;00m \u001b[38;5;28;01mimport\u001b[39;00m \u001b[38;5;241m*\u001b[39m\n\u001b[0;32m      4\u001b[0m \u001b[38;5;28;01mfrom\u001b[39;00m \u001b[38;5;21;01mgeneric_spam_url\u001b[39;00m \u001b[38;5;28;01mimport\u001b[39;00m \u001b[38;5;241m*\u001b[39m\n",
            "File \u001b[1;32mc:\\Users\\DELL\\OneDrive\\Desktop\\My C++\\My JAVA\\Cyberus---measuring-risk\\generic_model.py:3\u001b[0m\n\u001b[0;32m      1\u001b[0m \u001b[38;5;28;01mimport\u001b[39;00m \u001b[38;5;21;01mshutil\u001b[39;00m\n\u001b[0;32m      2\u001b[0m \u001b[38;5;28;01mimport\u001b[39;00m \u001b[38;5;21;01mpickle\u001b[39;00m\n\u001b[1;32m----> 3\u001b[0m \u001b[38;5;28;01mimport\u001b[39;00m \u001b[38;5;21;01mpy7zr\u001b[39;00m\n\u001b[0;32m      4\u001b[0m \u001b[38;5;28;01mimport\u001b[39;00m \u001b[38;5;21;01msys\u001b[39;00m\n\u001b[0;32m      5\u001b[0m \u001b[38;5;28;01mimport\u001b[39;00m \u001b[38;5;21;01mos\u001b[39;00m\n",
            "\u001b[1;31mModuleNotFoundError\u001b[0m: No module named 'py7zr'"
          ]
        }
      ],
      "source": [
        "#@markdown **Run me!** for auto building of Cyberus models.\n",
        "from cyberus import cyberus\n",
        "cyberus_obj = cyberus()"
      ]
    },
    {
      "cell_type": "markdown",
      "metadata": {
        "id": "lym1hzROH6lF"
      },
      "source": [
        "# Cyberus Playground\n",
        "\n",
        "Finally, you can input the message of interest into the provided input text field and assess its legitimacy by simply clicking the \"Run\" button. This process can be repeated multiple times for different messages. Cyberus will swiftly analyze the input and provide a risk assessment, helping you make informed decisions about the legitimacy of each message. With this user-friendly approach, you can conveniently utilize Cyberus to evaluate message authenticity whenever needed."
      ]
    },
    {
      "cell_type": "code",
      "execution_count": null,
      "metadata": {
        "cellView": "form",
        "id": "2BQMBB3BSkDp"
      },
      "outputs": [],
      "source": [
        "Message = \"\" #@param {type:\"string\"}\n",
        "#@markdown **Run me!** after entering text, for processing.\n",
        "cyberus_obj.input_text = message\n",
        "cyberus_obj.process()\n",
        "cyberus_obj.print()"
      ]
    }
  ],
  "metadata": {
    "colab": {
      "authorship_tag": "ABX9TyPeqtMQeKvmJIMMRTEWr3X+",
      "include_colab_link": true,
      "provenance": [],
      "toc_visible": true
    },
    "kernelspec": {
      "display_name": "base",
      "language": "python",
      "name": "python3"
    },
    "language_info": {
      "codemirror_mode": {
        "name": "ipython",
        "version": 3
      },
      "file_extension": ".py",
      "mimetype": "text/x-python",
      "name": "python",
      "nbconvert_exporter": "python",
      "pygments_lexer": "ipython3",
      "version": "3.12.4"
    }
  },
  "nbformat": 4,
  "nbformat_minor": 0
}
